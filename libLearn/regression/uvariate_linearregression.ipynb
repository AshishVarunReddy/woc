{
 "cells": [
  {
   "cell_type": "code",
   "execution_count": 5,
   "id": "133e46c2-f248-4f11-a198-e7e8f73201cb",
   "metadata": {},
   "outputs": [],
   "source": [
    "import pandas as pd\n",
    "import numpy as np\n",
    "import matplotlib.pyplot as plt\n",
    "%matplotlib inline"
   ]
  },
  {
   "cell_type": "code",
   "execution_count": 6,
   "id": "1faea491-8c54-478b-92f8-0bcdd6cde19e",
   "metadata": {},
   "outputs": [],
   "source": [
    "def error(w, b, data):\n",
    "  totcost = 0\n",
    "  l = len(data)\n",
    "  for i in range(l):\n",
    "    x = data.iloc[i, 0]\n",
    "    y = data.iloc[i, 1]\n",
    "    totcost += (w*x + b - y)**2\n",
    "  return totcost/(2*l)"
   ]
  },
  {
   "cell_type": "code",
   "execution_count": 8,
   "id": "3ba31186-ce35-4d8c-92d9-77743fda3d46",
   "metadata": {},
   "outputs": [],
   "source": [
    "def trainer(w, b, data, a):\n",
    " w_grad = 0\n",
    " b_grad = 0\n",
    " l = len(data)\n",
    " for i in range(l):\n",
    "   x = data.iloc[i, 0]\n",
    "   y = data.iloc[i, 1]\n",
    "   w_grad += (w*x + b - y)*x\n",
    "   b_grad += (w*x + b - y)\n",
    " w_grad /= l\n",
    " b_grad /= l\n",
    " w -= a*w_grad\n",
    " b -= a*b_grad\n",
    " return w, b\n"
   ]
  },
  {
   "cell_type": "markdown",
   "id": "52382eb8-fd14-4b42-a32a-adc0388e620c",
   "metadata": {},
   "source": [
    "Import the data which has only one input column"
   ]
  },
  {
   "cell_type": "markdown",
   "id": "dd59a7a5-aa0e-46ec-b5ef-5d1789a364bf",
   "metadata": {},
   "source": [
    "split the given data into three parts, training part, cross-validation part and finally testing part."
   ]
  },
  {
   "cell_type": "markdown",
   "id": "1c9f5333-e340-4f97-8bf9-97f390105e0f",
   "metadata": {},
   "source": [
    "This is just the basic outline of a simplest possible machine learning model"
   ]
  },
  {
   "cell_type": "code",
   "execution_count": null,
   "id": "04ce3600-bb69-4fbf-b454-1c8cbb02f359",
   "metadata": {},
   "outputs": [],
   "source": []
  }
 ],
 "metadata": {
  "kernelspec": {
   "display_name": "Python 3 (ipykernel)",
   "language": "python",
   "name": "python3"
  },
  "language_info": {
   "codemirror_mode": {
    "name": "ipython",
    "version": 3
   },
   "file_extension": ".py",
   "mimetype": "text/x-python",
   "name": "python",
   "nbconvert_exporter": "python",
   "pygments_lexer": "ipython3",
   "version": "3.12.7"
  }
 },
 "nbformat": 4,
 "nbformat_minor": 5
}
