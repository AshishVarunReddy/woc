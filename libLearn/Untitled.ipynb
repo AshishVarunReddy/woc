{
 "cells": [
  {
   "cell_type": "code",
   "execution_count": 1,
   "id": "4a005b1c-d586-483c-bbd3-09d4033a6cd3",
   "metadata": {},
   "outputs": [],
   "source": [
    "from classification import logistic_regression as lg"
   ]
  },
  {
   "cell_type": "code",
   "execution_count": 2,
   "id": "047fed6b-d9fd-4f3c-b937-8daf74526126",
   "metadata": {},
   "outputs": [
    {
     "name": "stdout",
     "output_type": "stream",
     "text": [
      "Hello World\n"
     ]
    }
   ],
   "source": [
    "lg.hello()"
   ]
  },
  {
   "cell_type": "code",
   "execution_count": 3,
   "id": "9c434696-f80d-465e-848e-d75265f2875b",
   "metadata": {},
   "outputs": [],
   "source": [
    "import pandas as pd"
   ]
  },
  {
   "cell_type": "code",
   "execution_count": 4,
   "id": "4d5d2354-1667-4af4-897c-1fd6a787cd7e",
   "metadata": {},
   "outputs": [
    {
     "data": {
      "text/html": [
       "<div>\n",
       "<style scoped>\n",
       "    .dataframe tbody tr th:only-of-type {\n",
       "        vertical-align: middle;\n",
       "    }\n",
       "\n",
       "    .dataframe tbody tr th {\n",
       "        vertical-align: top;\n",
       "    }\n",
       "\n",
       "    .dataframe thead th {\n",
       "        text-align: right;\n",
       "    }\n",
       "</style>\n",
       "<table border=\"1\" class=\"dataframe\">\n",
       "  <thead>\n",
       "    <tr style=\"text-align: right;\">\n",
       "      <th></th>\n",
       "      <th>Pregnancies</th>\n",
       "      <th>Glucose</th>\n",
       "      <th>BloodPressure</th>\n",
       "      <th>SkinThickness</th>\n",
       "      <th>Insulin</th>\n",
       "      <th>BMI</th>\n",
       "      <th>DiabetesPedigreeFunction</th>\n",
       "      <th>Age</th>\n",
       "      <th>Outcome</th>\n",
       "    </tr>\n",
       "  </thead>\n",
       "  <tbody>\n",
       "    <tr>\n",
       "      <th>0</th>\n",
       "      <td>6</td>\n",
       "      <td>148</td>\n",
       "      <td>72</td>\n",
       "      <td>35</td>\n",
       "      <td>0</td>\n",
       "      <td>33.6</td>\n",
       "      <td>0.627</td>\n",
       "      <td>50</td>\n",
       "      <td>1</td>\n",
       "    </tr>\n",
       "    <tr>\n",
       "      <th>1</th>\n",
       "      <td>1</td>\n",
       "      <td>85</td>\n",
       "      <td>66</td>\n",
       "      <td>29</td>\n",
       "      <td>0</td>\n",
       "      <td>26.6</td>\n",
       "      <td>0.351</td>\n",
       "      <td>31</td>\n",
       "      <td>0</td>\n",
       "    </tr>\n",
       "    <tr>\n",
       "      <th>2</th>\n",
       "      <td>8</td>\n",
       "      <td>183</td>\n",
       "      <td>64</td>\n",
       "      <td>0</td>\n",
       "      <td>0</td>\n",
       "      <td>23.3</td>\n",
       "      <td>0.672</td>\n",
       "      <td>32</td>\n",
       "      <td>1</td>\n",
       "    </tr>\n",
       "    <tr>\n",
       "      <th>3</th>\n",
       "      <td>1</td>\n",
       "      <td>89</td>\n",
       "      <td>66</td>\n",
       "      <td>23</td>\n",
       "      <td>94</td>\n",
       "      <td>28.1</td>\n",
       "      <td>0.167</td>\n",
       "      <td>21</td>\n",
       "      <td>0</td>\n",
       "    </tr>\n",
       "    <tr>\n",
       "      <th>4</th>\n",
       "      <td>0</td>\n",
       "      <td>137</td>\n",
       "      <td>40</td>\n",
       "      <td>35</td>\n",
       "      <td>168</td>\n",
       "      <td>43.1</td>\n",
       "      <td>2.288</td>\n",
       "      <td>33</td>\n",
       "      <td>1</td>\n",
       "    </tr>\n",
       "  </tbody>\n",
       "</table>\n",
       "</div>"
      ],
      "text/plain": [
       "   Pregnancies  Glucose  BloodPressure  SkinThickness  Insulin   BMI  \\\n",
       "0            6      148             72             35        0  33.6   \n",
       "1            1       85             66             29        0  26.6   \n",
       "2            8      183             64              0        0  23.3   \n",
       "3            1       89             66             23       94  28.1   \n",
       "4            0      137             40             35      168  43.1   \n",
       "\n",
       "   DiabetesPedigreeFunction  Age  Outcome  \n",
       "0                     0.627   50        1  \n",
       "1                     0.351   31        0  \n",
       "2                     0.672   32        1  \n",
       "3                     0.167   21        0  \n",
       "4                     2.288   33        1  "
      ]
     },
     "execution_count": 4,
     "metadata": {},
     "output_type": "execute_result"
    }
   ],
   "source": [
    "data = pd.read_csv('diabetes.csv')\n",
    "data.head()"
   ]
  },
  {
   "cell_type": "code",
   "execution_count": 5,
   "id": "c6f89451-dfef-4baf-ad52-6e6a0f7833c1",
   "metadata": {},
   "outputs": [],
   "source": [
    "X = data.iloc[:, :8]"
   ]
  },
  {
   "cell_type": "code",
   "execution_count": 6,
   "id": "fe8cb21b-bd05-4aa0-8a86-5578234d3241",
   "metadata": {},
   "outputs": [
    {
     "data": {
      "text/plain": [
       "(768, 8)"
      ]
     },
     "execution_count": 6,
     "metadata": {},
     "output_type": "execute_result"
    }
   ],
   "source": [
    "X.shape"
   ]
  },
  {
   "cell_type": "code",
   "execution_count": 7,
   "id": "ef8e180b-462b-495a-a4ea-d5a89b2115ea",
   "metadata": {},
   "outputs": [],
   "source": [
    "Y = data.iloc[:, 8:]"
   ]
  },
  {
   "cell_type": "code",
   "execution_count": 8,
   "id": "c95c685b-9d72-4da9-9050-d343713bb47d",
   "metadata": {},
   "outputs": [
    {
     "data": {
      "text/plain": [
       "(768, 1)"
      ]
     },
     "execution_count": 8,
     "metadata": {},
     "output_type": "execute_result"
    }
   ],
   "source": [
    "Y.shape"
   ]
  },
  {
   "cell_type": "code",
   "execution_count": 9,
   "id": "5ca1608d-c682-47bf-a7b3-255c1dcf1521",
   "metadata": {},
   "outputs": [],
   "source": [
    "import numpy as np"
   ]
  },
  {
   "cell_type": "code",
   "execution_count": 10,
   "id": "f02ae15a-9591-4f5b-9e14-ecabd7bf8d97",
   "metadata": {},
   "outputs": [],
   "source": [
    "x = np.array(X)\n",
    "y = np.array(Y)"
   ]
  },
  {
   "cell_type": "code",
   "execution_count": 11,
   "id": "621b5980-f2d0-4045-afc4-cd85bee804c0",
   "metadata": {},
   "outputs": [],
   "source": [
    "rows, columns = x.shape"
   ]
  },
  {
   "cell_type": "code",
   "execution_count": 12,
   "id": "45642803-f1e1-4edc-977f-035da07a32c8",
   "metadata": {},
   "outputs": [
    {
     "data": {
      "text/plain": [
       "8"
      ]
     },
     "execution_count": 12,
     "metadata": {},
     "output_type": "execute_result"
    }
   ],
   "source": [
    "columns"
   ]
  },
  {
   "cell_type": "code",
   "execution_count": 13,
   "id": "f3bba723-b356-47ff-a872-d697b3114384",
   "metadata": {},
   "outputs": [],
   "source": [
    "w = np.ones([columns, 1])\n",
    "b = 1\n",
    "alpha = 0.1\n",
    "iters = 100"
   ]
  },
  {
   "cell_type": "code",
   "execution_count": 14,
   "id": "a44e6070-ca72-4f82-a395-bb27abdfec13",
   "metadata": {},
   "outputs": [
    {
     "data": {
      "text/plain": [
       "(8, 1)"
      ]
     },
     "execution_count": 14,
     "metadata": {},
     "output_type": "execute_result"
    }
   ],
   "source": [
    "w.shape"
   ]
  },
  {
   "cell_type": "code",
   "execution_count": 15,
   "id": "5a13ec89-a695-4779-b3f1-7a66544e6895",
   "metadata": {},
   "outputs": [
    {
     "name": "stdout",
     "output_type": "stream",
     "text": [
      "accuracy is : 65.10416666666666\n",
      "Iteration 0: Cost = nan\n",
      "accuracy is : 34.89583333333333\n",
      "Iteration 10: Cost = nan\n",
      "accuracy is : 65.10416666666666\n",
      "Iteration 20: Cost = nan\n",
      "accuracy is : 48.17708333333333\n",
      "Iteration 30: Cost = nan\n",
      "accuracy is : 65.10416666666666\n",
      "Iteration 40: Cost = nan\n",
      "accuracy is : 54.817708333333336\n",
      "Iteration 50: Cost = nan\n",
      "accuracy is : 67.31770833333334\n",
      "Iteration 60: Cost = nan\n",
      "accuracy is : 65.10416666666666\n",
      "Iteration 70: Cost = nan\n",
      "accuracy is : 35.67708333333333\n",
      "Iteration 80: Cost = nan\n",
      "accuracy is : 64.453125\n",
      "Iteration 90: Cost = nan\n"
     ]
    },
    {
     "name": "stderr",
     "output_type": "stream",
     "text": [
      "/home/Icon0fs1n/libLearn/libLearn/classification/logistic_regression.py:18: RuntimeWarning: overflow encountered in exp\n",
      "  value = (1 / (1 + np.exp(-z))).round(2)\n",
      "/home/Icon0fs1n/libLearn/libLearn/classification/logistic_regression.py:27: RuntimeWarning: divide by zero encountered in log\n",
      "  loss = y * np.log(predictions) + (1 - y) * np.log(1 - predictions)\n",
      "/home/Icon0fs1n/libLearn/libLearn/classification/logistic_regression.py:27: RuntimeWarning: invalid value encountered in multiply\n",
      "  loss = y * np.log(predictions) + (1 - y) * np.log(1 - predictions)\n"
     ]
    },
    {
     "data": {
      "text/plain": [
       "(array([[  2.85002474],\n",
       "        [ -0.41851302],\n",
       "        [-10.08770964],\n",
       "        [ -1.27338542],\n",
       "        [ -3.47770703],\n",
       "        [ -1.02223659],\n",
       "        [  1.04500641],\n",
       "        [ -0.0575612 ]]),\n",
       " np.float64(0.58372265625))"
      ]
     },
     "execution_count": 15,
     "metadata": {},
     "output_type": "execute_result"
    }
   ],
   "source": [
    "lg.gradient_descent(x, y, w, b, alpha, iters)"
   ]
  },
  {
   "cell_type": "code",
   "execution_count": 16,
   "id": "28c31a6e-922b-400a-a0e8-833021734bb0",
   "metadata": {},
   "outputs": [
    {
     "data": {
      "text/plain": [
       "array([[  2.85002474],\n",
       "       [ -0.41851302],\n",
       "       [-10.08770964],\n",
       "       [ -1.27338542],\n",
       "       [ -3.47770703],\n",
       "       [ -1.02223659],\n",
       "       [  1.04500641],\n",
       "       [ -0.0575612 ]])"
      ]
     },
     "execution_count": 16,
     "metadata": {},
     "output_type": "execute_result"
    }
   ],
   "source": [
    "w"
   ]
  },
  {
   "cell_type": "code",
   "execution_count": 17,
   "id": "3bf9bbf2-eecd-4304-8589-86c6a23bec66",
   "metadata": {},
   "outputs": [
    {
     "name": "stdout",
     "output_type": "stream",
     "text": [
      "accuracy is : 65.10416666666666\n"
     ]
    },
    {
     "data": {
      "text/plain": [
       "np.float64(nan)"
      ]
     },
     "execution_count": 17,
     "metadata": {},
     "output_type": "execute_result"
    }
   ],
   "source": [
    "lg.compute_cost(x, y, w, 0.58372265625 )"
   ]
  },
  {
   "cell_type": "code",
   "execution_count": 18,
   "id": "a5d2b57b-bc23-4995-8f6b-cd08191dc269",
   "metadata": {},
   "outputs": [
    {
     "name": "stdout",
     "output_type": "stream",
     "text": [
      "accuracy is : 65.10416666666666\n"
     ]
    },
    {
     "data": {
      "text/plain": [
       "np.float64(nan)"
      ]
     },
     "execution_count": 18,
     "metadata": {},
     "output_type": "execute_result"
    }
   ],
   "source": [
    "lg.compute_cost(x, y, w, b)"
   ]
  },
  {
   "cell_type": "code",
   "execution_count": 19,
   "id": "f7132dc6-9b6f-44a4-b152-7bdd595192bf",
   "metadata": {},
   "outputs": [
    {
     "data": {
      "text/plain": [
       "(768, 1)"
      ]
     },
     "execution_count": 19,
     "metadata": {},
     "output_type": "execute_result"
    }
   ],
   "source": [
    "x.dot(w).shape"
   ]
  },
  {
   "cell_type": "code",
   "execution_count": 20,
   "id": "967fc750-9530-424b-96d5-cbeb42ce5eb2",
   "metadata": {},
   "outputs": [
    {
     "data": {
      "text/plain": [
       "array([2.21, 3.23, 5.23])"
      ]
     },
     "execution_count": 20,
     "metadata": {},
     "output_type": "execute_result"
    }
   ],
   "source": [
    "d = np.array([2.212, 3.2324, 5.2323])\n",
    "d.round(2)"
   ]
  },
  {
   "cell_type": "code",
   "execution_count": 21,
   "id": "f72dadd8-fd36-4977-9356-84704c115bfc",
   "metadata": {},
   "outputs": [],
   "source": [
    "import numpy as np"
   ]
  },
  {
   "cell_type": "code",
   "execution_count": 22,
   "id": "cbb2f330-cd2a-4524-8a2a-235665eb987d",
   "metadata": {},
   "outputs": [
    {
     "data": {
      "text/plain": [
       "array([[12.],\n",
       "       [12.]])"
      ]
     },
     "execution_count": 22,
     "metadata": {},
     "output_type": "execute_result"
    }
   ],
   "source": [
    "g = np.ones([2, 4])\n",
    "h = np.zeros([1, 4])\n",
    "h = h+3\n",
    "np.dot(g, h.T)"
   ]
  },
  {
   "cell_type": "code",
   "execution_count": 23,
   "id": "0d341a90-172d-4247-8312-43f717fee1be",
   "metadata": {},
   "outputs": [
    {
     "data": {
      "text/plain": [
       "array([1., 1.])"
      ]
     },
     "execution_count": 23,
     "metadata": {},
     "output_type": "execute_result"
    }
   ],
   "source": [
    "g[:, 1]"
   ]
  },
  {
   "cell_type": "code",
   "execution_count": 24,
   "id": "d7cb7d7e-740d-4904-b5bc-d539fe65bd95",
   "metadata": {},
   "outputs": [
    {
     "data": {
      "text/plain": [
       "array([1., 1.])"
      ]
     },
     "execution_count": 24,
     "metadata": {},
     "output_type": "execute_result"
    }
   ],
   "source": [
    "g[:, 3]"
   ]
  },
  {
   "cell_type": "code",
   "execution_count": 25,
   "id": "035e2325-60d4-41d2-af0f-971ae761953b",
   "metadata": {},
   "outputs": [
    {
     "data": {
      "text/plain": [
       "array([1., 1., 1., 1.])"
      ]
     },
     "execution_count": 25,
     "metadata": {},
     "output_type": "execute_result"
    }
   ],
   "source": [
    "g[1, :]"
   ]
  },
  {
   "cell_type": "code",
   "execution_count": 26,
   "id": "430d8b10-9f28-4dc3-93c1-5373fb2b37ab",
   "metadata": {},
   "outputs": [],
   "source": [
    "from regression import nvariate_polynomial_regression as pr\n",
    "import numpy as np"
   ]
  },
  {
   "cell_type": "code",
   "execution_count": 27,
   "id": "5c5ec57e-f42f-46cc-b631-8511f0c95755",
   "metadata": {},
   "outputs": [],
   "source": [
    "w = np.arange(9)\n",
    "w = w.reshape([3, 3])\n",
    "w = w+1"
   ]
  },
  {
   "cell_type": "code",
   "execution_count": 28,
   "id": "3cc0e7a4-c7ef-47f3-912a-9db3800668ac",
   "metadata": {},
   "outputs": [
    {
     "data": {
      "text/plain": [
       "array([[1, 2, 3],\n",
       "       [4, 5, 6],\n",
       "       [7, 8, 9]])"
      ]
     },
     "execution_count": 28,
     "metadata": {},
     "output_type": "execute_result"
    }
   ],
   "source": [
    "w"
   ]
  },
  {
   "cell_type": "code",
   "execution_count": 29,
   "id": "accd2f40-136a-4bf0-91fa-ccc605b1c8b8",
   "metadata": {},
   "outputs": [],
   "source": [
    "wp = pr.create_polynomial_features(w, 2)"
   ]
  },
  {
   "cell_type": "code",
   "execution_count": 30,
   "id": "79bee11f-8458-4f0c-a516-3e863dfdfeb3",
   "metadata": {},
   "outputs": [
    {
     "data": {
      "text/plain": [
       "(3, 10)"
      ]
     },
     "execution_count": 30,
     "metadata": {},
     "output_type": "execute_result"
    }
   ],
   "source": [
    "wp.shape"
   ]
  },
  {
   "cell_type": "code",
   "execution_count": 31,
   "id": "6aafd87b-5f00-4de0-8c14-72b274f86856",
   "metadata": {},
   "outputs": [
    {
     "data": {
      "text/plain": [
       "array([[ 1.,  1.,  2.,  3.,  1.,  2.,  3.,  4.,  6.,  9.],\n",
       "       [ 1.,  4.,  5.,  6., 16., 20., 24., 25., 30., 36.],\n",
       "       [ 1.,  7.,  8.,  9., 49., 56., 63., 64., 72., 81.]])"
      ]
     },
     "execution_count": 31,
     "metadata": {},
     "output_type": "execute_result"
    }
   ],
   "source": [
    "wp"
   ]
  },
  {
   "cell_type": "code",
   "execution_count": 2,
   "id": "a6a20b9d-f8e5-4e85-9287-feb3b133cff9",
   "metadata": {},
   "outputs": [
    {
     "data": {
      "text/plain": [
       "[3, 4]"
      ]
     },
     "execution_count": 2,
     "metadata": {},
     "output_type": "execute_result"
    }
   ],
   "source": [
    "[] + [3] + [4]"
   ]
  },
  {
   "cell_type": "code",
   "execution_count": null,
   "id": "9599cf3f-e86f-4a0e-8f9a-31bbf65e43a9",
   "metadata": {},
   "outputs": [],
   "source": []
  }
 ],
 "metadata": {
  "kernelspec": {
   "display_name": "Python (libLearn)",
   "language": "python",
   "name": "liblearn"
  },
  "language_info": {
   "codemirror_mode": {
    "name": "ipython",
    "version": 3
   },
   "file_extension": ".py",
   "mimetype": "text/x-python",
   "name": "python",
   "nbconvert_exporter": "python",
   "pygments_lexer": "ipython3",
   "version": "3.12.7"
  }
 },
 "nbformat": 4,
 "nbformat_minor": 5
}
