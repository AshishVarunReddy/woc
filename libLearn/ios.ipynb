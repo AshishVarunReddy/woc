{
 "cells": [
  {
   "cell_type": "code",
   "execution_count": 1,
   "id": "ed287dfd-3264-4d5d-8e3f-d44eea62b3d2",
   "metadata": {},
   "outputs": [],
   "source": [
    "import numpy as np\n",
    "import pandas as pd\n",
    "import matplotlib.pyplot as plt\n",
    "%matplotlib inline\n",
    "from regression import nvariate_polynomial_regression as pr"
   ]
  },
  {
   "cell_type": "code",
   "execution_count": 2,
   "id": "f26e509a-1841-4d69-a4af-91193d517698",
   "metadata": {},
   "outputs": [
    {
     "data": {
      "text/html": [
       "<div>\n",
       "<style scoped>\n",
       "    .dataframe tbody tr th:only-of-type {\n",
       "        vertical-align: middle;\n",
       "    }\n",
       "\n",
       "    .dataframe tbody tr th {\n",
       "        vertical-align: top;\n",
       "    }\n",
       "\n",
       "    .dataframe thead th {\n",
       "        text-align: right;\n",
       "    }\n",
       "</style>\n",
       "<table border=\"1\" class=\"dataframe\">\n",
       "  <thead>\n",
       "    <tr style=\"text-align: right;\">\n",
       "      <th></th>\n",
       "      <th>ID</th>\n",
       "      <th>Feature_1</th>\n",
       "      <th>Feature_2</th>\n",
       "      <th>Feature_3</th>\n",
       "      <th>Feature_4</th>\n",
       "      <th>Feature_5</th>\n",
       "      <th>Target</th>\n",
       "    </tr>\n",
       "  </thead>\n",
       "  <tbody>\n",
       "    <tr>\n",
       "      <th>0</th>\n",
       "      <td>1</td>\n",
       "      <td>-0.299150</td>\n",
       "      <td>0.980381</td>\n",
       "      <td>-1.244780</td>\n",
       "      <td>0.420551</td>\n",
       "      <td>-0.352235</td>\n",
       "      <td>8.168743e-10</td>\n",
       "    </tr>\n",
       "    <tr>\n",
       "      <th>1</th>\n",
       "      <td>2</td>\n",
       "      <td>-0.374319</td>\n",
       "      <td>-1.179867</td>\n",
       "      <td>0.615588</td>\n",
       "      <td>0.054701</td>\n",
       "      <td>0.687182</td>\n",
       "      <td>-5.081225e-10</td>\n",
       "    </tr>\n",
       "    <tr>\n",
       "      <th>2</th>\n",
       "      <td>3</td>\n",
       "      <td>-1.240429</td>\n",
       "      <td>-0.139086</td>\n",
       "      <td>-0.001653</td>\n",
       "      <td>0.487685</td>\n",
       "      <td>-0.242808</td>\n",
       "      <td>4.560170e-10</td>\n",
       "    </tr>\n",
       "    <tr>\n",
       "      <th>3</th>\n",
       "      <td>4</td>\n",
       "      <td>-0.429881</td>\n",
       "      <td>-1.724246</td>\n",
       "      <td>-0.098046</td>\n",
       "      <td>0.896504</td>\n",
       "      <td>0.318585</td>\n",
       "      <td>-2.647546e-09</td>\n",
       "    </tr>\n",
       "    <tr>\n",
       "      <th>4</th>\n",
       "      <td>5</td>\n",
       "      <td>-1.726345</td>\n",
       "      <td>1.945823</td>\n",
       "      <td>1.275979</td>\n",
       "      <td>-0.474670</td>\n",
       "      <td>1.050494</td>\n",
       "      <td>-1.704606e-08</td>\n",
       "    </tr>\n",
       "  </tbody>\n",
       "</table>\n",
       "</div>"
      ],
      "text/plain": [
       "   ID  Feature_1  Feature_2  Feature_3  Feature_4  Feature_5        Target\n",
       "0   1  -0.299150   0.980381  -1.244780   0.420551  -0.352235  8.168743e-10\n",
       "1   2  -0.374319  -1.179867   0.615588   0.054701   0.687182 -5.081225e-10\n",
       "2   3  -1.240429  -0.139086  -0.001653   0.487685  -0.242808  4.560170e-10\n",
       "3   4  -0.429881  -1.724246  -0.098046   0.896504   0.318585 -2.647546e-09\n",
       "4   5  -1.726345   1.945823   1.275979  -0.474670   1.050494 -1.704606e-08"
      ]
     },
     "execution_count": 2,
     "metadata": {},
     "output_type": "execute_result"
    }
   ],
   "source": [
    "data = pd.read_csv('polynomial_regression_train.csv')\n",
    "data.head()"
   ]
  },
  {
   "cell_type": "code",
   "execution_count": 3,
   "id": "48a5debf-9335-4947-92b7-10b4ce5e55b5",
   "metadata": {},
   "outputs": [
    {
     "data": {
      "text/html": [
       "<div>\n",
       "<style scoped>\n",
       "    .dataframe tbody tr th:only-of-type {\n",
       "        vertical-align: middle;\n",
       "    }\n",
       "\n",
       "    .dataframe tbody tr th {\n",
       "        vertical-align: top;\n",
       "    }\n",
       "\n",
       "    .dataframe thead th {\n",
       "        text-align: right;\n",
       "    }\n",
       "</style>\n",
       "<table border=\"1\" class=\"dataframe\">\n",
       "  <thead>\n",
       "    <tr style=\"text-align: right;\">\n",
       "      <th></th>\n",
       "      <th>Feature_1</th>\n",
       "      <th>Feature_2</th>\n",
       "      <th>Feature_3</th>\n",
       "      <th>Feature_4</th>\n",
       "      <th>Feature_5</th>\n",
       "    </tr>\n",
       "  </thead>\n",
       "  <tbody>\n",
       "    <tr>\n",
       "      <th>0</th>\n",
       "      <td>-0.299150</td>\n",
       "      <td>0.980381</td>\n",
       "      <td>-1.244780</td>\n",
       "      <td>0.420551</td>\n",
       "      <td>-0.352235</td>\n",
       "    </tr>\n",
       "    <tr>\n",
       "      <th>1</th>\n",
       "      <td>-0.374319</td>\n",
       "      <td>-1.179867</td>\n",
       "      <td>0.615588</td>\n",
       "      <td>0.054701</td>\n",
       "      <td>0.687182</td>\n",
       "    </tr>\n",
       "    <tr>\n",
       "      <th>2</th>\n",
       "      <td>-1.240429</td>\n",
       "      <td>-0.139086</td>\n",
       "      <td>-0.001653</td>\n",
       "      <td>0.487685</td>\n",
       "      <td>-0.242808</td>\n",
       "    </tr>\n",
       "    <tr>\n",
       "      <th>3</th>\n",
       "      <td>-0.429881</td>\n",
       "      <td>-1.724246</td>\n",
       "      <td>-0.098046</td>\n",
       "      <td>0.896504</td>\n",
       "      <td>0.318585</td>\n",
       "    </tr>\n",
       "    <tr>\n",
       "      <th>4</th>\n",
       "      <td>-1.726345</td>\n",
       "      <td>1.945823</td>\n",
       "      <td>1.275979</td>\n",
       "      <td>-0.474670</td>\n",
       "      <td>1.050494</td>\n",
       "    </tr>\n",
       "  </tbody>\n",
       "</table>\n",
       "</div>"
      ],
      "text/plain": [
       "   Feature_1  Feature_2  Feature_3  Feature_4  Feature_5\n",
       "0  -0.299150   0.980381  -1.244780   0.420551  -0.352235\n",
       "1  -0.374319  -1.179867   0.615588   0.054701   0.687182\n",
       "2  -1.240429  -0.139086  -0.001653   0.487685  -0.242808\n",
       "3  -0.429881  -1.724246  -0.098046   0.896504   0.318585\n",
       "4  -1.726345   1.945823   1.275979  -0.474670   1.050494"
      ]
     },
     "execution_count": 3,
     "metadata": {},
     "output_type": "execute_result"
    }
   ],
   "source": [
    "X = data.iloc[:40000, 1:6]\n",
    "y = data.iloc[:40000, 6]\n",
    "tar_samples, = y.shape\n",
    "X.head()"
   ]
  },
  {
   "cell_type": "code",
   "execution_count": 4,
   "id": "9139230e-e91f-4048-9fb2-5798ee400773",
   "metadata": {},
   "outputs": [
    {
     "data": {
      "text/plain": [
       "40000"
      ]
     },
     "execution_count": 4,
     "metadata": {},
     "output_type": "execute_result"
    }
   ],
   "source": [
    "tar_samples"
   ]
  },
  {
   "cell_type": "code",
   "execution_count": 5,
   "id": "93feca49-7975-4e0b-9a63-8c8f9df2415e",
   "metadata": {},
   "outputs": [],
   "source": [
    "y = np.array(y)\n",
    "X = np.array(X)\n",
    "y = y.reshape([tar_samples, 1])"
   ]
  },
  {
   "cell_type": "code",
   "execution_count": 17,
   "id": "51de2400-a6d4-4abc-b692-f05e1bd1f57a",
   "metadata": {},
   "outputs": [
    {
     "name": "stdout",
     "output_type": "stream",
     "text": [
      "cost 0:5.707586636418665e-17\n",
      "cost 50:5.4107903170255324e-17\n",
      "cost 100:5.183931141689068e-17\n",
      "cost 150:4.9977084847515654e-17\n",
      "cost 200:4.8365191876104714e-17\n",
      "cost 250:4.6919593997990147e-17\n",
      "cost 300:4.559416291341651e-17\n",
      "cost 350:4.4362794490161166e-17\n",
      "cost 400:4.3210015414253135e-17\n",
      "cost 450:4.212604453926541e-17\n",
      "cost 500:4.1104191975427474e-17\n",
      "cost 550:4.0139485745460297e-17\n",
      "cost 600:3.922794359257864e-17\n",
      "cost 650:3.8366184251652937e-17\n",
      "cost 700:3.7551217640544233e-17\n",
      "The final cost is:  3.679533187730424e-17\n",
      "w:[[-2.55302598e-11]\n",
      " [ 5.76363984e-11]\n",
      " [ 8.55820132e-12]\n",
      " [ 3.78344701e-11]\n",
      " [ 4.54812181e-11]\n",
      " [-6.31979846e-12]\n",
      " [ 8.58795164e-10]\n",
      " [-2.79753732e-10]\n",
      " [ 9.77044394e-10]\n",
      " [-4.46129597e-10]\n",
      " [ 4.01767017e-10]\n",
      " [-4.71063655e-10]\n",
      " [-5.54846402e-10]\n",
      " [-2.20305143e-11]\n",
      " [-4.78849923e-11]\n",
      " [ 1.49710777e-10]\n",
      " [-4.42632904e-12]\n",
      " [ 1.57515920e-10]\n",
      " [-1.34815984e-10]\n",
      " [-3.22629886e-10]\n",
      " [-5.92870120e-10]\n",
      " [ 1.48505849e-10]\n",
      " [ 1.32274476e-10]\n",
      " [ 8.02429576e-11]\n",
      " [-7.73192393e-11]\n",
      " [ 8.64657955e-11]\n",
      " [-2.24232414e-10]\n",
      " [-1.24394428e-10]\n",
      " [ 1.21778961e-10]\n",
      " [-1.85206373e-10]\n",
      " [ 3.02020432e-10]\n",
      " [ 7.94502026e-11]\n",
      " [-7.11447524e-11]\n",
      " [ 2.65130610e-10]\n",
      " [-2.25536476e-10]\n",
      " [ 1.71930057e-10]\n",
      " [ 2.20247680e-11]\n",
      " [ 3.94868038e-10]\n",
      " [ 4.55149382e-10]\n",
      " [-4.73530056e-11]\n",
      " [ 1.77619867e-11]\n",
      " [ 1.81901060e-10]\n",
      " [ 3.90361353e-10]\n",
      " [-9.53318758e-11]\n",
      " [ 2.68861887e-10]\n",
      " [-3.47668359e-11]\n",
      " [ 1.36231699e-10]\n",
      " [-1.37876156e-10]\n",
      " [-1.88073756e-10]\n",
      " [ 1.22486500e-10]\n",
      " [ 2.53108722e-11]\n",
      " [ 1.51246608e-10]\n",
      " [ 1.33264258e-10]\n",
      " [ 2.22065158e-10]\n",
      " [-3.41448419e-11]\n",
      " [ 3.25108334e-11]], b:-2.5530259763901618e-11\n"
     ]
    }
   ],
   "source": [
    "w, b = pr.train(X, y, 3,0.00032, 750, 50)"
   ]
  },
  {
   "cell_type": "code",
   "execution_count": 7,
   "id": "48309348-4317-4240-afc8-0d003cc986a1",
   "metadata": {},
   "outputs": [],
   "source": [
    "dev_data = data.iloc[40000:, :]\n",
    "x_dev = dev_data.iloc[:, 1:6]\n",
    "y_dev = dev_data.iloc[:, 6]\n",
    "x_dev = np.array(x_dev)\n",
    "y_dev = np.array(y_dev)\n",
    "tars, = y_dev.shape\n",
    "y_dev = y_dev.reshape([tars, 1])\n"
   ]
  },
  {
   "cell_type": "code",
   "execution_count": 8,
   "id": "71934569-1416-461b-aa38-23c085ad2b6e",
   "metadata": {},
   "outputs": [
    {
     "data": {
      "text/plain": [
       "np.float64(5.375783879491068e-17)"
      ]
     },
     "execution_count": 8,
     "metadata": {},
     "output_type": "execute_result"
    }
   ],
   "source": [
    "pr.cost(x_dev, y_dev, 3, w, b)"
   ]
  },
  {
   "cell_type": "code",
   "execution_count": 9,
   "id": "ed403912-8b10-455b-b3a2-39cd32f6dd81",
   "metadata": {},
   "outputs": [
    {
     "data": {
      "text/html": [
       "<div>\n",
       "<style scoped>\n",
       "    .dataframe tbody tr th:only-of-type {\n",
       "        vertical-align: middle;\n",
       "    }\n",
       "\n",
       "    .dataframe tbody tr th {\n",
       "        vertical-align: top;\n",
       "    }\n",
       "\n",
       "    .dataframe thead th {\n",
       "        text-align: right;\n",
       "    }\n",
       "</style>\n",
       "<table border=\"1\" class=\"dataframe\">\n",
       "  <thead>\n",
       "    <tr style=\"text-align: right;\">\n",
       "      <th></th>\n",
       "      <th>ID</th>\n",
       "      <th>Feature_1</th>\n",
       "      <th>Feature_2</th>\n",
       "      <th>Feature_3</th>\n",
       "      <th>Feature_4</th>\n",
       "      <th>Feature_5</th>\n",
       "    </tr>\n",
       "  </thead>\n",
       "  <tbody>\n",
       "    <tr>\n",
       "      <th>0</th>\n",
       "      <td>1</td>\n",
       "      <td>1.718004</td>\n",
       "      <td>-0.201814</td>\n",
       "      <td>0.791965</td>\n",
       "      <td>-0.410485</td>\n",
       "      <td>1.678171</td>\n",
       "    </tr>\n",
       "    <tr>\n",
       "      <th>1</th>\n",
       "      <td>2</td>\n",
       "      <td>0.782395</td>\n",
       "      <td>0.897345</td>\n",
       "      <td>-0.059263</td>\n",
       "      <td>-1.725306</td>\n",
       "      <td>-1.363520</td>\n",
       "    </tr>\n",
       "    <tr>\n",
       "      <th>2</th>\n",
       "      <td>3</td>\n",
       "      <td>0.619033</td>\n",
       "      <td>0.397670</td>\n",
       "      <td>-0.506356</td>\n",
       "      <td>-0.546682</td>\n",
       "      <td>-1.629186</td>\n",
       "    </tr>\n",
       "    <tr>\n",
       "      <th>3</th>\n",
       "      <td>4</td>\n",
       "      <td>1.950046</td>\n",
       "      <td>-1.874789</td>\n",
       "      <td>-0.144491</td>\n",
       "      <td>1.952435</td>\n",
       "      <td>1.908823</td>\n",
       "    </tr>\n",
       "    <tr>\n",
       "      <th>4</th>\n",
       "      <td>5</td>\n",
       "      <td>0.097417</td>\n",
       "      <td>0.960511</td>\n",
       "      <td>-1.031956</td>\n",
       "      <td>-1.585839</td>\n",
       "      <td>-1.297509</td>\n",
       "    </tr>\n",
       "  </tbody>\n",
       "</table>\n",
       "</div>"
      ],
      "text/plain": [
       "   ID  Feature_1  Feature_2  Feature_3  Feature_4  Feature_5\n",
       "0   1   1.718004  -0.201814   0.791965  -0.410485   1.678171\n",
       "1   2   0.782395   0.897345  -0.059263  -1.725306  -1.363520\n",
       "2   3   0.619033   0.397670  -0.506356  -0.546682  -1.629186\n",
       "3   4   1.950046  -1.874789  -0.144491   1.952435   1.908823\n",
       "4   5   0.097417   0.960511  -1.031956  -1.585839  -1.297509"
      ]
     },
     "execution_count": 9,
     "metadata": {},
     "output_type": "execute_result"
    }
   ],
   "source": [
    "test_data = pd.read_csv(\"polynomial_regression_test.csv\")\n",
    "test_data.head()"
   ]
  },
  {
   "cell_type": "code",
   "execution_count": 10,
   "id": "7f419ad0-fee3-4bdf-b8e9-1b1a2de7163e",
   "metadata": {},
   "outputs": [],
   "source": [
    "x_test = test_data.iloc[:, 1:]"
   ]
  },
  {
   "cell_type": "code",
   "execution_count": 11,
   "id": "ecda02ca-ea7e-4a21-8679-3ec66a4bf75b",
   "metadata": {},
   "outputs": [],
   "source": [
    "x_test = np.array(x_test)"
   ]
  },
  {
   "cell_type": "code",
   "execution_count": 13,
   "id": "868769bc-adc8-48b4-843b-b03903c7c6d3",
   "metadata": {},
   "outputs": [],
   "source": [
    "y_pred = pr.predict(x_test, 3,  w, b)"
   ]
  },
  {
   "cell_type": "code",
   "execution_count": null,
   "id": "b1b092f7-bfc7-4832-b301-8c25247b10fc",
   "metadata": {},
   "outputs": [],
   "source": [
    "4.256512838011381e-17 == 4.256512838011381e-17"
   ]
  },
  {
   "cell_type": "code",
   "execution_count": 16,
   "id": "51730105-4e74-44b3-9b15-2aa5dabc4010",
   "metadata": {},
   "outputs": [
    {
     "data": {
      "text/plain": [
       "array([[ 1.12716786e-09],\n",
       "       [-4.20485998e-10],\n",
       "       [-2.35261903e-10],\n",
       "       ...,\n",
       "       [ 3.64857532e-11],\n",
       "       [-1.94862470e-10],\n",
       "       [-2.18560926e-10]], shape=(12000, 1))"
      ]
     },
     "execution_count": 16,
     "metadata": {},
     "output_type": "execute_result"
    }
   ],
   "source": [
    "y_pred"
   ]
  },
  {
   "cell_type": "code",
   "execution_count": null,
   "id": "11007175-2b9b-455f-ad43-6d8907c93733",
   "metadata": {},
   "outputs": [],
   "source": [
    "y_predd = pd.DataFrame(y_pred)\n",
    "y_predd"
   ]
  },
  {
   "cell_type": "code",
   "execution_count": null,
   "id": "66adcdc0-8bfd-48d6-8049-a64e73b8812a",
   "metadata": {},
   "outputs": [],
   "source": [
    "y_predd.head()"
   ]
  },
  {
   "cell_type": "code",
   "execution_count": null,
   "id": "b3416755-f633-4f77-868d-ee2ec0219b3d",
   "metadata": {},
   "outputs": [],
   "source": []
  }
 ],
 "metadata": {
  "kernelspec": {
   "display_name": "Python (libLearn)",
   "language": "python",
   "name": "liblearn"
  },
  "language_info": {
   "codemirror_mode": {
    "name": "ipython",
    "version": 3
   },
   "file_extension": ".py",
   "mimetype": "text/x-python",
   "name": "python",
   "nbconvert_exporter": "python",
   "pygments_lexer": "ipython3",
   "version": "3.12.7"
  }
 },
 "nbformat": 4,
 "nbformat_minor": 5
}
